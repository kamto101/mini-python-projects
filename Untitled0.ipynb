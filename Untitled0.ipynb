{
  "nbformat": 4,
  "nbformat_minor": 0,
  "metadata": {
    "colab": {
      "provenance": [],
      "collapsed_sections": [],
      "authorship_tag": "ABX9TyOObPRumv1GqckQI9+hh8Xe",
      "include_colab_link": true
    },
    "kernelspec": {
      "name": "python3",
      "display_name": "Python 3"
    },
    "language_info": {
      "name": "python"
    }
  },
  "cells": [
    {
      "cell_type": "markdown",
      "metadata": {
        "id": "view-in-github",
        "colab_type": "text"
      },
      "source": [
        "<a href=\"https://colab.research.google.com/github/kamto101/mini-python-projects/blob/main/Untitled0.ipynb\" target=\"_parent\"><img src=\"https://colab.research.google.com/assets/colab-badge.svg\" alt=\"Open In Colab\"/></a>"
      ]
    },
    {
      "cell_type": "markdown",
      "source": [
        "**Times Table Calculator**\n",
        "\n",
        "Hi, welcome to my times table calculator. this calculators asks you to answer questions from 1 times table upwards. it also records your answers so you dont lose track of how many questions you have answered. Try it out!!!"
      ],
      "metadata": {
        "id": "NrgbmMwugkcG"
      }
    },
    {
      "cell_type": "code",
      "source": [
        "number_1 = 1\n",
        "number_2 = 2\n",
        "answer = \"\"\n",
        "asked = 0\n",
        "while answer != \"e\":\n",
        "    correct =  number_1 * number_2\n",
        "    user_response = int(input(f'what is {number_1} * {number_2}: '))\n",
        "    value = user_response\n",
        "    if value == correct:\n",
        "        print('well done')\n",
        "    else:\n",
        "        print('try again')\n",
        "    answer = input('would you like to exit (e) or continue (c) ')\n",
        "    number_1 = number_1 + 1\n",
        "    if number_1 > 12:\n",
        "        number_2 = number_2 + 1\n",
        "        number_1 = 1\n",
        "    asked = asked + 1\n",
        "    print(f'you answered {asked} question(s), well done')"
      ],
      "metadata": {
        "id": "yliLzC4u2qlI",
        "colab": {
          "base_uri": "https://localhost:8080/"
        },
        "outputId": "02c516e7-b13c-4a82-f6ec-f200391dd48f"
      },
      "execution_count": 1,
      "outputs": [
        {
          "output_type": "stream",
          "name": "stdout",
          "text": [
            "what is 1 * 2: 2\n",
            "well done\n",
            "would you like to exit (e) or continue (c) e\n",
            "you answered 1 question(s), well done\n"
          ]
        }
      ]
    },
    {
      "cell_type": "code",
      "source": [],
      "metadata": {
        "id": "-hfyZwfJJyic"
      },
      "execution_count": null,
      "outputs": []
    }
  ]
}