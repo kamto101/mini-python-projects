{
  "cells": [
    {
      "cell_type": "markdown",
      "metadata": {
        "id": "view-in-github",
        "colab_type": "text"
      },
      "source": [
        "<a href=\"https://colab.research.google.com/github/kamto101/mini-python-projects/blob/main/times_table_calculator(input_from_user).ipynb\" target=\"_parent\"><img src=\"https://colab.research.google.com/assets/colab-badge.svg\" alt=\"Open In Colab\"/></a>"
      ]
    },
    {
      "cell_type": "markdown",
      "metadata": {
        "id": "NrgbmMwugkcG"
      },
      "source": [
        "**Times Table Calculator**\n",
        "\n",
        "Hi, welcome to my times table calculator. this calculators asks you to answer questions from 1 times table upwards. it also records your answers so you dont lose track of how many questions you have answered. Try it out!!!"
      ]
    },
    {
      "cell_type": "code",
      "execution_count": null,
      "metadata": {
        "colab": {
          "base_uri": "https://localhost:8080/"
        },
        "id": "-hfyZwfJJyic",
        "outputId": "d7e57ff1-51d0-4114-8e7c-9a229cfc98f6"
      },
      "outputs": [
        {
          "output_type": "stream",
          "name": "stdout",
          "text": [
            "what is 1 * 2: 2\n",
            "correct\n",
            "would you like to exit (e) or continue (c) c\n",
            "[2]\n",
            "2.0\n",
            "what is 2 * 2: 4\n",
            "correct\n",
            "would you like to exit (e) or continue (c) c\n",
            "[2, 4]\n",
            "3.0\n",
            "what is 5 * 4: 20\n",
            "correct\n",
            "would you like to exit (e) or continue (c) c\n",
            "[2, 4, 6]\n",
            "4.0\n",
            "what is 8 * 6: 42\n",
            "wrong\n",
            "would you like to exit (e) or continue (c) e\n",
            "[2, 4, 6, 0]\n",
            "3.0\n",
            "4 question(s) answered, High score : 12 points, Average score: 3.0\n"
          ]
        }
      ],
      "source": [
        "number_1 = 1\n",
        "number_2 = 2\n",
        "answer = \"\"\n",
        "asked = 0\n",
        "score = 0\n",
        "high_score= []\n",
        "\n",
        "while answer != \"e\":\n",
        "    correct =  number_1 * number_2\n",
        "    user_response = int(input(f'what is {number_1} * {number_2}: '))\n",
        "    value = user_response\n",
        "    if value == correct:\n",
        "        print('correct')\n",
        "    else:\n",
        "        print('wrong')\n",
        "    answer = input('would you like to exit (e) or continue (c) ')\n",
        "    number_1 = number_1 + 1\n",
        "    if number_1 > 12:\n",
        "        number_2 = number_2 + 1\n",
        "        number_1 = 1\n",
        "    asked = asked + 1\n",
        "    if value == correct:\n",
        "        score += 2\n",
        "    else:\n",
        "        score = 0\n",
        "    new_list = [int(x) for x in str(score)]\n",
        "    high_score += new_list\n",
        "    average_score = sum(high_score)/len(high_score)\n",
        "    highh_score = sum(high_score)\n",
        "    print(high_score)\n",
        "    print(average_score)\n",
        "    if average_score >= 3:\n",
        "      number_2 = number_2 + 2\n",
        "      number_1 = number_1 + 2\n",
        "    if answer == \"e\":\n",
        "        print(f'{asked} question(s) answered, High score : {highh_score} points, Average score: {average_score}')\n",
        "    \n",
        "      \n",
        "\n",
        "\n",
        "\n",
        "\n",
        "    \n",
        "    \n",
        "    "
      ]
    },
    {
      "cell_type": "code",
      "execution_count": null,
      "metadata": {
        "id": "4nLv7rqVPlxH"
      },
      "outputs": [],
      "source": []
    },
    {
      "cell_type": "code",
      "execution_count": null,
      "metadata": {
        "id": "PcRJJLomXv-6"
      },
      "outputs": [],
      "source": []
    },
    {
      "cell_type": "code",
      "source": [],
      "metadata": {
        "id": "PunmedqSIpuq"
      },
      "execution_count": null,
      "outputs": []
    }
  ],
  "metadata": {
    "colab": {
      "collapsed_sections": [],
      "provenance": [],
      "authorship_tag": "ABX9TyPUHUFImSyDIJNFmV9zVGUl",
      "include_colab_link": true
    },
    "kernelspec": {
      "display_name": "Python 3",
      "name": "python3"
    },
    "language_info": {
      "name": "python"
    }
  },
  "nbformat": 4,
  "nbformat_minor": 0
}