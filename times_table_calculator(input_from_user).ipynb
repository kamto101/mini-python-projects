{
  "cells": [
    {
      "cell_type": "markdown",
      "metadata": {
        "id": "view-in-github",
        "colab_type": "text"
      },
      "source": [
        "<a href=\"https://colab.research.google.com/github/kamto101/mini-python-projects/blob/main/times_table_calculator(input_from_user).ipynb\" target=\"_parent\"><img src=\"https://colab.research.google.com/assets/colab-badge.svg\" alt=\"Open In Colab\"/></a>"
      ]
    },
    {
      "cell_type": "markdown",
      "metadata": {
        "id": "NrgbmMwugkcG"
      },
      "source": [
        "**Times Table Program**\n",
        "\n",
        "Hi, welcome to my times table program. this programs asks you to answer questions from the times table, randomly :). Are you a math genius? Lets see what you've got."
      ]
    },
    {
      "cell_type": "code",
      "execution_count": 2,
      "metadata": {
        "colab": {
          "base_uri": "https://localhost:8080/"
        },
        "id": "-hfyZwfJJyic",
        "outputId": "3cb4baeb-be59-4b1c-c88d-74d68869b936"
      },
      "outputs": [
        {
          "output_type": "stream",
          "name": "stdout",
          "text": [
            "what is 1 * 2: 2\n",
            "correct\n",
            "would you like to exit (e) or continue (c) c\n",
            "what is 2 * 2: 4\n",
            "correct\n",
            "would you like to exit (e) or continue (c) c\n",
            "what is 5 * 4: 20\n",
            "correct\n",
            "would you like to exit (e) or continue (c) c\n",
            "what is 8 * 6: 42\n",
            "wrong\n",
            "would you like to exit (e) or continue (c) e\n",
            "4 question(s) answered, High score : 12 points, Average score: 3.0\n"
          ]
        }
      ],
      "source": [
        "number_1 = 1\n",
        "number_2 = 2\n",
        "answer = \"\"\n",
        "asked = 0\n",
        "score = 0\n",
        "high_score= []\n",
        "\n",
        "while answer != \"e\":\n",
        "    correct =  number_1 * number_2\n",
        "    user_response = int(input(f'what is {number_1} * {number_2}: '))\n",
        "    value = user_response\n",
        "    if value == correct:\n",
        "        print('correct')\n",
        "    else:\n",
        "        print('wrong')\n",
        "    answer = input('would you like to exit (e) or continue (c) ')\n",
        "    number_1 = number_1 + 1\n",
        "    if number_1 > 12:\n",
        "        number_2 = number_2 + 1\n",
        "        number_1 = 1\n",
        "    asked = asked + 1\n",
        "    if value == correct:\n",
        "        score += 2\n",
        "    else:\n",
        "        score = 0\n",
        "    new_list = [int(x) for x in str(score)]\n",
        "    high_score += new_list\n",
        "    average_score = sum(high_score)/len(high_score)\n",
        "    highh_score = sum(high_score)\n",
        "    #print(high_score)\n",
        "    #print(average_score)\n",
        "    if average_score >= 3:\n",
        "      number_2 = number_2 + 2\n",
        "      number_1 = number_1 + 2\n",
        "    if answer == \"e\":\n",
        "        print(f'{asked} question(s) answered, High score : {highh_score} points, Average score: {average_score}')\n",
        "    \n",
        "      \n",
        "\n",
        "\n",
        "\n",
        "\n",
        "    \n",
        "    \n",
        "    "
      ]
    },
    {
      "cell_type": "code",
      "execution_count": null,
      "metadata": {
        "id": "4nLv7rqVPlxH"
      },
      "outputs": [],
      "source": []
    },
    {
      "cell_type": "code",
      "execution_count": null,
      "metadata": {
        "id": "PcRJJLomXv-6"
      },
      "outputs": [],
      "source": []
    },
    {
      "cell_type": "code",
      "source": [],
      "metadata": {
        "id": "PunmedqSIpuq"
      },
      "execution_count": null,
      "outputs": []
    }
  ],
  "metadata": {
    "colab": {
      "collapsed_sections": [],
      "provenance": [],
      "authorship_tag": "ABX9TyPESaOqweXGxOA+HMswwM1f",
      "include_colab_link": true
    },
    "kernelspec": {
      "display_name": "Python 3",
      "name": "python3"
    },
    "language_info": {
      "name": "python"
    }
  },
  "nbformat": 4,
  "nbformat_minor": 0
}