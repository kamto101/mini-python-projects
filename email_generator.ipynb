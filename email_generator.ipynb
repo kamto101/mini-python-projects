{
  "nbformat": 4,
  "nbformat_minor": 0,
  "metadata": {
    "colab": {
      "provenance": [],
      "collapsed_sections": [],
      "authorship_tag": "ABX9TyMBYWH4F7+mmh4fsV71Y5AN",
      "include_colab_link": true
    },
    "kernelspec": {
      "name": "python3",
      "display_name": "Python 3"
    },
    "language_info": {
      "name": "python"
    }
  },
  "cells": [
    {
      "cell_type": "markdown",
      "metadata": {
        "id": "view-in-github",
        "colab_type": "text"
      },
      "source": [
        "<a href=\"https://colab.research.google.com/github/kamto101/mini-python-projects/blob/main/email_generator.ipynb\" target=\"_parent\"><img src=\"https://colab.research.google.com/assets/colab-badge.svg\" alt=\"Open In Colab\"/></a>"
      ]
    },
    {
      "cell_type": "markdown",
      "source": [
        "**EMAIL GENERATOR**"
      ],
      "metadata": {
        "id": "W4nrlVVxEW4Q"
      }
    },
    {
      "cell_type": "code",
      "source": [
        "print('welcome to the email generator! follow the prompt to generate your new email')\n",
        "\n",
        "\n",
        "import random\n",
        "\n",
        "first_name = input(\"first name please: \")\n",
        "name_1 = first_name[0].upper()\n",
        "last_name = input(\"last name please: \")\n",
        "name_2 = last_name[0].upper()\n",
        "email = \"@sussex.ac.uk\"\n",
        "number = str(random.randint(1,100))\n",
        "email_address = name_1 + name_2  + number + email\n",
        "\n",
        "\n",
        "\n",
        "\n",
        "def generate_email():\n",
        "  \n",
        "  return email_address\n",
        "print('your new email: ') \n",
        "generate_email()\n",
        "  "
      ],
      "metadata": {
        "id": "akWaDPKM9D7u",
        "colab": {
          "base_uri": "https://localhost:8080/",
          "height": 105
        },
        "outputId": "93eed0ee-baa4-41dc-aba4-6bf4576551fc"
      },
      "execution_count": 2,
      "outputs": [
        {
          "output_type": "stream",
          "name": "stdout",
          "text": [
            "welcome to the email generator! follow the prompt to generate your new email\n",
            "first name please: emma\n",
            "last name please: love\n",
            "your new email: \n"
          ]
        },
        {
          "output_type": "execute_result",
          "data": {
            "text/plain": [
              "'EL33@sussex.ac.uk'"
            ],
            "application/vnd.google.colaboratory.intrinsic+json": {
              "type": "string"
            }
          },
          "metadata": {},
          "execution_count": 2
        }
      ]
    },
    {
      "cell_type": "markdown",
      "source": [],
      "metadata": {
        "id": "awHunBX-FfMV"
      }
    },
    {
      "cell_type": "code",
      "source": [],
      "metadata": {
        "id": "RguuOwXwFn2R"
      },
      "execution_count": 1,
      "outputs": []
    },
    {
      "cell_type": "code",
      "source": [],
      "metadata": {
        "id": "-Ee020MIRcRy"
      },
      "execution_count": null,
      "outputs": []
    }
  ]
}